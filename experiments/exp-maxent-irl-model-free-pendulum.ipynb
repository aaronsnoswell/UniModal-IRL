{
 "cells": [
  {
   "cell_type": "code",
   "execution_count": 1,
   "id": "pretty-reservation",
   "metadata": {},
   "outputs": [],
   "source": [
    "\n",
    "import os\n",
    "import gym\n",
    "import warnings\n",
    "\n",
    "import numpy as np\n",
    "import pandas as pd\n",
    "import seaborn as sns\n",
    "import itertools as it\n",
    "import matplotlib.pyplot as plt\n",
    "\n",
    "from tqdm import tqdm\n",
    "from pprint import pprint\n",
    "from datetime import datetime\n",
    "from scipy.optimize import minimize\n",
    "from joblib import Parallel, delayed\n",
    "from IPython.display import display\n",
    "\n",
    "from mdp_extras import vi, OptimalPolicy, padding_trick, UniformRandomCtsPolicy, PaddedMDPWarning, Linear\n",
    "from mdp_extras.envs import VonMisesNormalBasis, pendulum_obs_to_state\n",
    "\n",
    "from unimodal_irl import sw_maxent_irl, sw_maxent_irl_modelfree, mean_ci, ile_evd, inner_angle\n"
   ]
  },
  {
   "cell_type": "code",
   "execution_count": 2,
   "id": "acoustic-lambda",
   "metadata": {},
   "outputs": [
    {
     "name": "stderr",
     "output_type": "stream",
     "text": [
      "C:\\Users\\snoswell\\Miniconda3\\envs\\py38\\lib\\site-packages\\stable_baselines3\\common\\save_util.py:166: UserWarning: Could not deserialize object lr_schedule. Consider using `custom_objects` argument to replace this object.\n",
      "  warnings.warn(\n"
     ]
    },
    {
     "name": "stdout",
     "output_type": "stream",
     "text": [
      "Wrapping the env with a `Monitor` wrapper\n",
      "Wrapping the env in a DummyVecEnv.\n"
     ]
    }
   ],
   "source": [
    "\n",
    "from gym.wrappers import TimeLimit\n",
    "from gym.envs.classic_control import PendulumEnv\n",
    "\n",
    "from stable_baselines3 import DDPG\n",
    "\n",
    "#env = gym.make(\"Pendulum-v0\")\n",
    "max_timesteps = 200\n",
    "env = PendulumEnv()\n",
    "env = TimeLimit(env, max_timesteps)\n",
    "gamma = 0.99\n",
    "\n",
    "# Load trained DDPG policy from rl-baselines3-zoo\n",
    "model = DDPG.load(\n",
    "    os.path.join(\"rl-trained-agents/ddpg/Pendulum-v0_1/Pendulum-v0.zip\"),\n",
    "    env=env,\n",
    "    custom_objects=dict(learning_rate=0.001)\n",
    ")\n"
   ]
  },
  {
   "cell_type": "code",
   "execution_count": 3,
   "id": "palestinian-address",
   "metadata": {},
   "outputs": [],
   "source": [
    "\n",
    "# Collect demonstrations from expert policy\n",
    "num_demos = 20\n",
    "demos = []\n",
    "for _ in range(num_demos):\n",
    "    obs = env.reset()\n",
    "    traj = []\n",
    "    while True:\n",
    "        state = pendulum_obs_to_state(obs)\n",
    "        action, _ = model.predict(obs)\n",
    "        traj.append((state, action))\n",
    "        obs, reward, done, info = env.step(action)\n",
    "        #env.render()\n",
    "        if done:\n",
    "            break\n",
    "    demos.append(traj)\n",
    "    #env.close()\n"
   ]
  },
  {
   "cell_type": "code",
   "execution_count": 4,
   "id": "acute-evans",
   "metadata": {},
   "outputs": [
    {
     "name": "stdout",
     "output_type": "stream",
     "text": [
      "[[1.37228931e-04 2.60523678e-01 2.81397210e+01 1.74939481e-01\n",
      "  3.41200528e-05]\n",
      " [2.31296580e-01 6.76056018e-01 2.59988624e-01 1.51151544e-01\n",
      "  8.23808584e-03]\n",
      " [5.44339201e-01 1.68049880e-01 3.72317137e-01 2.68556664e-01\n",
      "  1.39230871e-01]\n",
      " [3.83788671e-01 3.49575355e-01 4.83818746e-01 4.43847770e-01\n",
      "  1.64711023e-01]\n",
      " [1.14475265e-02 3.09312827e-01 3.71189662e-01 3.37865406e-01\n",
      "  7.78023274e-02]]\n"
     ]
    },
    {
     "data": {
      "image/png": "[encoded data removed]",
      "text/plain": [
       "<Figure size 432x288 with 2 Axes>"
      ]
     },
     "metadata": {
      "needs_background": "light"
     },
     "output_type": "display_data"
    }
   ],
   "source": [
    "\n",
    "basis_dim = 5\n",
    "phi = VonMisesNormalBasis(num=basis_dim, kappa=10, std=1.0)\n",
    "\n",
    "# Visualise feature function\n",
    "# num = 20\n",
    "# t = np.linspace(-np.pi, np.pi, num)\n",
    "# td = np.linspace(-8.0, 8.0, num)\n",
    "\n",
    "# X, Y = np.meshgrid(t, td)\n",
    "# Z = np.zeros([X.shape[0], X.shape[1], basis_dim ** 2])\n",
    "# for id0 in range(X.shape[0]):\n",
    "#     for id1 in range(X.shape[1]):\n",
    "#         _x = X[id0, id1]\n",
    "#         _y = Y[id0, id1]\n",
    "#         Z[id0, id1] = phi([_x, _y])\n",
    "\n",
    "# import matplotlib.pyplot as plt\n",
    "\n",
    "# for _idx in range(basis_dim ** 2):\n",
    "#     plt.figure()\n",
    "#     _Z = Z[:, :, _idx]\n",
    "#     plt.contour(X, Y, _Z)\n",
    "#     plt.show()\n",
    "#     plt.close()\n",
    "\n",
    "phi_bar = phi.demo_average(demos, gamma)\n",
    "\n",
    "print(phi_bar.reshape(basis_dim, -1))\n",
    "\n",
    "def viz_soln(x):\n",
    "    \"\"\"Visualize a solution vector\"\"\"\n",
    "    #plt.figure(figsize=(7, 6), dpi=300)\n",
    "    plt.figure()\n",
    "    sns.set()\n",
    "    plt.imshow(x.reshape(basis_dim, -1), aspect=\"auto\", extent=(-np.pi, np.pi, -8.0, 8.0))\n",
    "    plt.colorbar()\n",
    "    plt.show()\n",
    "\n",
    "# Visualize expert's feature expectation\n",
    "viz_soln(phi_bar)\n"
   ]
  },
  {
   "cell_type": "markdown",
   "id": "2a807dae-07b3-402b-a19a-918bd32b9aba",
   "metadata": {
    "tags": []
   },
   "source": [
    "\n",
    "# Value function is given by:\n",
    "\n",
    "$$\n",
    "v_\\pi(s) \\triangleq \\mathbb{E}_\\pi\\left[\n",
    "    \\sum_{k=0}^\\infty \\gamma^k r(s_{t+k+1}) \\mid s_t = s\n",
    "\\right]\n",
    "$$\n",
    "\n",
    "Therfore, for a given policy we can approximate this by,\n",
    "\n",
    "$$\n",
    "v_\\pi(s) \\approx \\frac{1}{|M|} \\sum_{i=1}^M\n",
    "\\left[\n",
    "    r(s) + r(s') + \\dots \\mid T, \\pi\n",
    "\\right];\n",
    "\\qquad\\qquad \\tau_i \\sim \\pi\n",
    "$$\n",
    "\n",
    "This approximation will have much lower variance for a deterministic policy, and will be exact up to numerical rounding for the case of a deterministic policy AND detemrinistic dynamics.\n"
   ]
  },
  {
   "cell_type": "code",
   "execution_count": 5,
   "id": "14cf2927-7b09-412e-b157-9aaad1181bb3",
   "metadata": {},
   "outputs": [
    {
     "name": "stderr",
     "output_type": "stream",
     "text": [
      "C:\\Users\\snoswell\\Miniconda3\\envs\\py38\\lib\\site-packages\\joblib\\externals\\loky\\process_executor.py:688: UserWarning: A worker stopped while some jobs were given to the executor. This can be caused by a too short worker timeout or by a memory leak.\n",
      "  warnings.warn(\n"
     ]
    },
    {
     "name": "stdout",
     "output_type": "stream",
     "text": [
      "-151.91558688482775\n"
     ]
    }
   ],
   "source": [
    "\n",
    "\n",
    "def approx_state_value(pi, s, num_samples=1, gamma=1.0, r_custom=None):\n",
    "    \"\"\"Approximately compute the value of s under pi\n",
    "    \n",
    "    Args:\n",
    "        pi (class): Policy object with a .predict() method matching the stable-baselines API\n",
    "        s (numpy array): State to estimate value from\n",
    "        \n",
    "        num_samples (int): Number of samples to estimate value with. For\n",
    "            determinstic policies and transition dynamics this can be set to 1.\n",
    "        gamma (float): Discount factor\n",
    "        r_custom (mdp_extras.RewardFunction): Custom reward function to use\n",
    "    \n",
    "    Returns:\n",
    "        (float): State value estimate\n",
    "    \"\"\"\n",
    "    \n",
    "    episode_returns = []\n",
    "    for _ in range(num_samples):\n",
    "        # XXX Force initial state\n",
    "        env.reset()\n",
    "        env.unwrapped.state = s\n",
    "        obs = env.unwrapped._get_obs()\n",
    "        done = False\n",
    "        ep_rewards = []\n",
    "        while not done:\n",
    "            a = pi.predict(obs, deterministic=True)[0]\n",
    "            obs, reward, done, info = env.step(a)\n",
    "            if r_custom is not None:\n",
    "                # Use custom reward function\n",
    "                state = pendulum_obs_to_state(obs)\n",
    "                reward = r_custom(phi(state))\n",
    "            ep_rewards.append(reward)\n",
    "            if done:\n",
    "                break\n",
    "        ep_rewards = np.array(ep_rewards)\n",
    "        gammas = gamma ** np.arange(len(ep_rewards))\n",
    "        episode_return = gammas @ ep_rewards\n",
    "        episode_returns.append(episode_return)\n",
    "    \n",
    "    return np.mean(episode_returns)\n",
    "\n",
    "\n",
    "def approx_policy_value(pi, start_state_disc_dim=10, num_samples=1, gamma=1.0, r_custom=None, n_jobs=8):\n",
    "    \"\"\"Approximately compute the value pi under the starting state distribution\n",
    "    \n",
    "    Args:\n",
    "        pi (class): Policy object with a .predict() method matching the stable-baselines API\n",
    "    \n",
    "        start_state_disc_dim (int): How fine to discretize each dimension of the MDP starting\n",
    "            state distribution support. For Pundulum-v0, 10 seems to be sufficient for accurately\n",
    "            measuring policy value (at least for the optimal policy)\n",
    "        num_samples (int): Number of samples to estimate value with. For\n",
    "            determinstic policies and transition dynamics this can be set to 1.\n",
    "        gamma (float): Discount factor\n",
    "        r_custom (mdp_extras.RewardFunction): Custom reward function to use\n",
    "        n_jobs (int): Number of parallel workers to spin up for estimating value\n",
    "        \n",
    "    Returns:\n",
    "        (float): Approximate value of pi under the MDP's start state distribution\n",
    "    \"\"\"\n",
    "    # Compute a set of states that span and discretize the continuous uniform start state distribution\n",
    "    theta_bounds = np.array([-np.pi, np.pi])\n",
    "    theta_delta = 0.5 * (theta_bounds[1] - theta_bounds[0]) / start_state_disc_dim\n",
    "    theta_bounds += np.array([theta_delta, -theta_delta])\n",
    "    thetas = np.linspace(theta_bounds[0], theta_bounds[1], start_state_disc_dim)\n",
    "    theta_dots = np.linspace(-1, 1, start_state_disc_dim)\n",
    "    start_states = [np.array(p) for p in it.product(thetas, theta_dots)]\n",
    "    \n",
    "    # Spin up a bunch of workers to process the starting states in parallel\n",
    "    values = Parallel(n_jobs=n_jobs)(\n",
    "        delayed(approx_state_value)(model, state, num_samples, gamma, r_custom)\n",
    "        for state in start_states\n",
    "    )\n",
    "    \n",
    "    return np.mean(values)\n",
    "\n",
    "# What is the value of the optimal policy?\n",
    "pi_gt_v = approx_policy_value(model)\n",
    "print(pi_gt_v)\n",
    "# -144 is *just* sufficient to make it to the OpenAI Gym leaderboard - so we're in the right ball-park\n",
    "\n",
    "def evd(learned_model, gamma):\n",
    "    \"\"\"Compute approximate expected value difference for a learned optimal policy\n",
    "    \n",
    "    Args:\n",
    "        learned_model (class): Optimal policy wrt. some reward function. Should be a Policy\n",
    "            object with a .predict() method matching the stable-baselines API\n",
    "        \n",
    "        gamma (float): Discount factor\n",
    "        \n",
    "    Returns:\n",
    "        (float): Expected value difference of the given policy\n",
    "    \"\"\"\n",
    "    v_pi = approx_policy_value(learned_model, gamma=gamma)\n",
    "    evd = pi_gt_v - v_pi\n",
    "    return evd\n",
    "\n"
   ]
  },
  {
   "cell_type": "code",
   "execution_count": 6,
   "id": "recorded-workstation",
   "metadata": {},
   "outputs": [],
   "source": [
    "\n",
    "pi_ref = UniformRandomCtsPolicy((-2.0, 2.0))\n",
    "\n",
    " # Get importance sampling dataset\n",
    "pi_ref_demos = []\n",
    "max_path_length = max_timesteps\n",
    "num_sampled_paths = 10\n",
    "for _ in range(num_sampled_paths):\n",
    "    path_len = np.random.randint(1, high=max_path_length + 1)\n",
    "    path = []\n",
    "    obs = env.reset()\n",
    "    s = pendulum_obs_to_state(obs)\n",
    "    while len(path) < path_len - 1:\n",
    "        a = pi_ref.predict(s)[0]\n",
    "        path.append((s, a))\n",
    "        obs, r, done, _ = env.step(a)\n",
    "        s = pendulum_obs_to_state(obs)\n",
    "    path.append((s, None))\n",
    "    pi_ref_demos.append(path)\n",
    "\n",
    "# Pre-compute sampled path feature expectations\n",
    "pi_ref_demo_phis_precomputed = [\n",
    "    phi.onpath(p, gamma)\n",
    "    for p in pi_ref_demos\n",
    "]\n"
   ]
  },
  {
   "cell_type": "code",
   "execution_count": 7,
   "id": "8f59d049-d605-4322-9f6f-875d23bcd297",
   "metadata": {},
   "outputs": [],
   "source": [
    "\n",
    "# Nelder Mead doesn't work - the scipy implementation doesn't support bounds or callback termination signals\n"
   ]
  },
  {
   "cell_type": "code",
   "execution_count": 11,
   "id": "competitive-array",
   "metadata": {},
   "outputs": [
    {
     "name": "stdout",
     "output_type": "stream",
     "text": [
      "      fun: 219.59440427392983\n",
      " hess_inv: <25x25 LbfgsInvHessProduct with dtype=float64>\n",
      "      jac: array([ 1.10626221e-04,  1.88272476e-01, -2.37392273e+01,  8.45067978e-01,\n",
      "        1.06430054e-03,  1.30319595e-01,  4.74283218e-01,  3.04094315e-01,\n",
      "        1.46805191e+00,  1.91654205e-01,  5.09019852e-01,  1.17504120e-01,\n",
      "        1.75292969e-01, -2.56290436e-02,  1.09290314e+00,  7.13958740e-01,\n",
      "       -5.00736237e-02, -2.23159790e-04, -2.55084991e-01,  8.86604309e-01,\n",
      "        1.86901093e-01,  1.10220718e+00,  1.12291336e-01,  4.98252869e-01,\n",
      "        3.96768570e-01])\n",
      "  message: 'CONVERGENCE: REL_REDUCTION_OF_F_<=_FACTR*EPSMCH'\n",
      "     nfev: 780\n",
      "      nit: 24\n",
      "     njev: 30\n",
      "   status: 0\n",
      "  success: True\n",
      "        x: array([-0.00318264, -1.        ,  1.        , -1.        , -0.02982608,\n",
      "       -1.        , -1.        , -1.        , -1.        , -1.        ,\n",
      "       -1.        , -1.        , -1.        ,  1.        , -1.        ,\n",
      "       -1.        ,  1.        ,  0.58245427,  1.        , -1.        ,\n",
      "       -1.        , -1.        , -1.        , -1.        , -1.        ])\n"
     ]
    },
    {
     "data": {
      "image/png": "[encoded data removed]",
      "text/plain": [
       "<Figure size 432x288 with 2 Axes>"
      ]
     },
     "metadata": {},
     "output_type": "display_data"
    }
   ],
   "source": [
    "\n",
    "x0 = np.zeros(len(phi))\n",
    "res = minimize(\n",
    "    sw_maxent_irl_modelfree,\n",
    "    x0,\n",
    "    args=(gamma, phi, phi_bar, max_path_length, pi_ref, pi_ref_demos, True, pi_ref_demo_phis_precomputed),\n",
    "    method='L-BFGS-B',\n",
    "    jac='2-point',\n",
    "    bounds=[(-1, 1) for _ in range(len(phi))],\n",
    "    options=dict(disp=True)\n",
    ")\n",
    "\n",
    "print(res)\n",
    "viz_soln(res.x)\n"
   ]
  },
  {
   "cell_type": "code",
   "execution_count": 19,
   "id": "a1e9b64c-7f90-4311-aaaf-9521bb6d761b",
   "metadata": {},
   "outputs": [
    {
     "name": "stdout",
     "output_type": "stream",
     "text": [
      "Using cuda device\n"
     ]
    },
    {
     "ename": "KeyboardInterrupt",
     "evalue": "",
     "output_type": "error",
     "traceback": [
      "\u001b[1;31m---------------------------------------------------------------------------\u001b[0m",
      "\u001b[1;31mKeyboardInterrupt\u001b[0m                         Traceback (most recent call last)",
      "\u001b[1;32m<ipython-input-19-2ec6c11e9d00>\u001b[0m in \u001b[0;36m<module>\u001b[1;34m\u001b[0m\n\u001b[0;32m     18\u001b[0m \u001b[0menv2\u001b[0m \u001b[1;33m=\u001b[0m \u001b[0mDummyVecEnv\u001b[0m\u001b[1;33m(\u001b[0m\u001b[1;33m[\u001b[0m\u001b[0mget_env\u001b[0m \u001b[1;32mfor\u001b[0m \u001b[0m_\u001b[0m \u001b[1;32min\u001b[0m \u001b[0mrange\u001b[0m\u001b[1;33m(\u001b[0m\u001b[0mnum_envs\u001b[0m\u001b[1;33m)\u001b[0m\u001b[1;33m]\u001b[0m\u001b[1;33m)\u001b[0m\u001b[1;33m\u001b[0m\u001b[1;33m\u001b[0m\u001b[0m\n\u001b[0;32m     19\u001b[0m \u001b[0mmodel\u001b[0m \u001b[1;33m=\u001b[0m \u001b[0mDDPG\u001b[0m\u001b[1;33m(\u001b[0m\u001b[1;34m'MlpPolicy'\u001b[0m\u001b[1;33m,\u001b[0m \u001b[0menv2\u001b[0m\u001b[1;33m,\u001b[0m \u001b[0mverbose\u001b[0m\u001b[1;33m=\u001b[0m\u001b[1;36m1\u001b[0m\u001b[1;33m)\u001b[0m\u001b[1;33m\u001b[0m\u001b[1;33m\u001b[0m\u001b[0m\n\u001b[1;32m---> 20\u001b[1;33m \u001b[0mmodel\u001b[0m\u001b[1;33m.\u001b[0m\u001b[0mlearn\u001b[0m\u001b[1;33m(\u001b[0m\u001b[0mtotal_timesteps\u001b[0m\u001b[1;33m=\u001b[0m\u001b[1;36m1000\u001b[0m\u001b[1;33m)\u001b[0m\u001b[1;33m\u001b[0m\u001b[1;33m\u001b[0m\u001b[0m\n\u001b[0m",
      "\u001b[1;32m~\\Miniconda3\\envs\\py38\\lib\\site-packages\\stable_baselines3\\ddpg\\ddpg.py\u001b[0m in \u001b[0;36mlearn\u001b[1;34m(self, total_timesteps, callback, log_interval, eval_env, eval_freq, n_eval_episodes, tb_log_name, eval_log_path, reset_num_timesteps)\u001b[0m\n\u001b[0;32m    120\u001b[0m     ) -> OffPolicyAlgorithm:\n\u001b[0;32m    121\u001b[0m \u001b[1;33m\u001b[0m\u001b[0m\n\u001b[1;32m--> 122\u001b[1;33m         return super(DDPG, self).learn(\n\u001b[0m\u001b[0;32m    123\u001b[0m             \u001b[0mtotal_timesteps\u001b[0m\u001b[1;33m=\u001b[0m\u001b[0mtotal_timesteps\u001b[0m\u001b[1;33m,\u001b[0m\u001b[1;33m\u001b[0m\u001b[1;33m\u001b[0m\u001b[0m\n\u001b[0;32m    124\u001b[0m             \u001b[0mcallback\u001b[0m\u001b[1;33m=\u001b[0m\u001b[0mcallback\u001b[0m\u001b[1;33m,\u001b[0m\u001b[1;33m\u001b[0m\u001b[1;33m\u001b[0m\u001b[0m\n",
      "\u001b[1;32m~\\Miniconda3\\envs\\py38\\lib\\site-packages\\stable_baselines3\\td3\\td3.py\u001b[0m in \u001b[0;36mlearn\u001b[1;34m(self, total_timesteps, callback, log_interval, eval_env, eval_freq, n_eval_episodes, tb_log_name, eval_log_path, reset_num_timesteps)\u001b[0m\n\u001b[0;32m    193\u001b[0m     ) -> OffPolicyAlgorithm:\n\u001b[0;32m    194\u001b[0m \u001b[1;33m\u001b[0m\u001b[0m\n\u001b[1;32m--> 195\u001b[1;33m         return super(TD3, self).learn(\n\u001b[0m\u001b[0;32m    196\u001b[0m             \u001b[0mtotal_timesteps\u001b[0m\u001b[1;33m=\u001b[0m\u001b[0mtotal_timesteps\u001b[0m\u001b[1;33m,\u001b[0m\u001b[1;33m\u001b[0m\u001b[1;33m\u001b[0m\u001b[0m\n\u001b[0;32m    197\u001b[0m             \u001b[0mcallback\u001b[0m\u001b[1;33m=\u001b[0m\u001b[0mcallback\u001b[0m\u001b[1;33m,\u001b[0m\u001b[1;33m\u001b[0m\u001b[1;33m\u001b[0m\u001b[0m\n",
      "\u001b[1;32m~\\Miniconda3\\envs\\py38\\lib\\site-packages\\stable_baselines3\\common\\off_policy_algorithm.py\u001b[0m in \u001b[0;36mlearn\u001b[1;34m(self, total_timesteps, callback, log_interval, eval_env, eval_freq, n_eval_episodes, tb_log_name, eval_log_path, reset_num_timesteps)\u001b[0m\n\u001b[0;32m    264\u001b[0m \u001b[1;33m\u001b[0m\u001b[0m\n\u001b[0;32m    265\u001b[0m         \u001b[1;32mwhile\u001b[0m \u001b[0mself\u001b[0m\u001b[1;33m.\u001b[0m\u001b[0mnum_timesteps\u001b[0m \u001b[1;33m<\u001b[0m \u001b[0mtotal_timesteps\u001b[0m\u001b[1;33m:\u001b[0m\u001b[1;33m\u001b[0m\u001b[1;33m\u001b[0m\u001b[0m\n\u001b[1;32m--> 266\u001b[1;33m             rollout = self.collect_rollouts(\n\u001b[0m\u001b[0;32m    267\u001b[0m                 \u001b[0mself\u001b[0m\u001b[1;33m.\u001b[0m\u001b[0menv\u001b[0m\u001b[1;33m,\u001b[0m\u001b[1;33m\u001b[0m\u001b[1;33m\u001b[0m\u001b[0m\n\u001b[0;32m    268\u001b[0m                 \u001b[0mtrain_freq\u001b[0m\u001b[1;33m=\u001b[0m\u001b[0mself\u001b[0m\u001b[1;33m.\u001b[0m\u001b[0mtrain_freq\u001b[0m\u001b[1;33m,\u001b[0m\u001b[1;33m\u001b[0m\u001b[1;33m\u001b[0m\u001b[0m\n",
      "\u001b[1;32m~\\Miniconda3\\envs\\py38\\lib\\site-packages\\stable_baselines3\\common\\off_policy_algorithm.py\u001b[0m in \u001b[0;36mcollect_rollouts\u001b[1;34m(self, env, callback, train_freq, replay_buffer, action_noise, learning_starts, log_interval)\u001b[0m\n\u001b[0;32m    488\u001b[0m \u001b[1;33m\u001b[0m\u001b[0m\n\u001b[0;32m    489\u001b[0m                 \u001b[1;31m# Store data in replay buffer (normalized action and unnormalized observation)\u001b[0m\u001b[1;33m\u001b[0m\u001b[1;33m\u001b[0m\u001b[1;33m\u001b[0m\u001b[0m\n\u001b[1;32m--> 490\u001b[1;33m                 \u001b[0mself\u001b[0m\u001b[1;33m.\u001b[0m\u001b[0m_store_transition\u001b[0m\u001b[1;33m(\u001b[0m\u001b[0mreplay_buffer\u001b[0m\u001b[1;33m,\u001b[0m \u001b[0mbuffer_action\u001b[0m\u001b[1;33m,\u001b[0m \u001b[0mnew_obs\u001b[0m\u001b[1;33m,\u001b[0m \u001b[0mreward\u001b[0m\u001b[1;33m,\u001b[0m \u001b[0mdone\u001b[0m\u001b[1;33m,\u001b[0m \u001b[0minfos\u001b[0m\u001b[1;33m)\u001b[0m\u001b[1;33m\u001b[0m\u001b[1;33m\u001b[0m\u001b[0m\n\u001b[0m\u001b[0;32m    491\u001b[0m \u001b[1;33m\u001b[0m\u001b[0m\n\u001b[0;32m    492\u001b[0m                 \u001b[0mself\u001b[0m\u001b[1;33m.\u001b[0m\u001b[0m_update_current_progress_remaining\u001b[0m\u001b[1;33m(\u001b[0m\u001b[0mself\u001b[0m\u001b[1;33m.\u001b[0m\u001b[0mnum_timesteps\u001b[0m\u001b[1;33m,\u001b[0m \u001b[0mself\u001b[0m\u001b[1;33m.\u001b[0m\u001b[0m_total_timesteps\u001b[0m\u001b[1;33m)\u001b[0m\u001b[1;33m\u001b[0m\u001b[1;33m\u001b[0m\u001b[0m\n",
      "\u001b[1;32m~\\Miniconda3\\envs\\py38\\lib\\site-packages\\stable_baselines3\\common\\off_policy_algorithm.py\u001b[0m in \u001b[0;36m_store_transition\u001b[1;34m(self, replay_buffer, buffer_action, new_obs, reward, done, infos)\u001b[0m\n\u001b[0;32m    407\u001b[0m             \u001b[0mnext_obs\u001b[0m \u001b[1;33m=\u001b[0m \u001b[0mnew_obs_\u001b[0m\u001b[1;33m\u001b[0m\u001b[1;33m\u001b[0m\u001b[0m\n\u001b[0;32m    408\u001b[0m \u001b[1;33m\u001b[0m\u001b[0m\n\u001b[1;32m--> 409\u001b[1;33m         \u001b[0mreplay_buffer\u001b[0m\u001b[1;33m.\u001b[0m\u001b[0madd\u001b[0m\u001b[1;33m(\u001b[0m\u001b[0mself\u001b[0m\u001b[1;33m.\u001b[0m\u001b[0m_last_original_obs\u001b[0m\u001b[1;33m,\u001b[0m \u001b[0mnext_obs\u001b[0m\u001b[1;33m,\u001b[0m \u001b[0mbuffer_action\u001b[0m\u001b[1;33m,\u001b[0m \u001b[0mreward_\u001b[0m\u001b[1;33m,\u001b[0m \u001b[0mdone\u001b[0m\u001b[1;33m)\u001b[0m\u001b[1;33m\u001b[0m\u001b[1;33m\u001b[0m\u001b[0m\n\u001b[0m\u001b[0;32m    410\u001b[0m \u001b[1;33m\u001b[0m\u001b[0m\n\u001b[0;32m    411\u001b[0m         \u001b[0mself\u001b[0m\u001b[1;33m.\u001b[0m\u001b[0m_last_obs\u001b[0m \u001b[1;33m=\u001b[0m \u001b[0mnew_obs\u001b[0m\u001b[1;33m\u001b[0m\u001b[1;33m\u001b[0m\u001b[0m\n",
      "\u001b[1;32m~\\Miniconda3\\envs\\py38\\lib\\site-packages\\stable_baselines3\\common\\buffers.py\u001b[0m in \u001b[0;36madd\u001b[1;34m(self, obs, next_obs, action, reward, done)\u001b[0m\n\u001b[0;32m    211\u001b[0m \u001b[1;33m\u001b[0m\u001b[0m\n\u001b[0;32m    212\u001b[0m         \u001b[0mself\u001b[0m\u001b[1;33m.\u001b[0m\u001b[0mactions\u001b[0m\u001b[1;33m[\u001b[0m\u001b[0mself\u001b[0m\u001b[1;33m.\u001b[0m\u001b[0mpos\u001b[0m\u001b[1;33m]\u001b[0m \u001b[1;33m=\u001b[0m \u001b[0mnp\u001b[0m\u001b[1;33m.\u001b[0m\u001b[0marray\u001b[0m\u001b[1;33m(\u001b[0m\u001b[0maction\u001b[0m\u001b[1;33m)\u001b[0m\u001b[1;33m.\u001b[0m\u001b[0mcopy\u001b[0m\u001b[1;33m(\u001b[0m\u001b[1;33m)\u001b[0m\u001b[1;33m\u001b[0m\u001b[1;33m\u001b[0m\u001b[0m\n\u001b[1;32m--> 213\u001b[1;33m         \u001b[0mself\u001b[0m\u001b[1;33m.\u001b[0m\u001b[0mrewards\u001b[0m\u001b[1;33m[\u001b[0m\u001b[0mself\u001b[0m\u001b[1;33m.\u001b[0m\u001b[0mpos\u001b[0m\u001b[1;33m]\u001b[0m \u001b[1;33m=\u001b[0m \u001b[0mnp\u001b[0m\u001b[1;33m.\u001b[0m\u001b[0marray\u001b[0m\u001b[1;33m(\u001b[0m\u001b[0mreward\u001b[0m\u001b[1;33m)\u001b[0m\u001b[1;33m.\u001b[0m\u001b[0mcopy\u001b[0m\u001b[1;33m(\u001b[0m\u001b[1;33m)\u001b[0m\u001b[1;33m\u001b[0m\u001b[1;33m\u001b[0m\u001b[0m\n\u001b[0m\u001b[0;32m    214\u001b[0m         \u001b[0mself\u001b[0m\u001b[1;33m.\u001b[0m\u001b[0mdones\u001b[0m\u001b[1;33m[\u001b[0m\u001b[0mself\u001b[0m\u001b[1;33m.\u001b[0m\u001b[0mpos\u001b[0m\u001b[1;33m]\u001b[0m \u001b[1;33m=\u001b[0m \u001b[0mnp\u001b[0m\u001b[1;33m.\u001b[0m\u001b[0marray\u001b[0m\u001b[1;33m(\u001b[0m\u001b[0mdone\u001b[0m\u001b[1;33m)\u001b[0m\u001b[1;33m.\u001b[0m\u001b[0mcopy\u001b[0m\u001b[1;33m(\u001b[0m\u001b[1;33m)\u001b[0m\u001b[1;33m\u001b[0m\u001b[1;33m\u001b[0m\u001b[0m\n\u001b[0;32m    215\u001b[0m \u001b[1;33m\u001b[0m\u001b[0m\n",
      "\u001b[1;31mKeyboardInterrupt\u001b[0m: "
     ]
    }
   ],
   "source": [
    "\n",
    "from gym.envs.classic_control import PendulumEnv\n",
    "from stable_baselines3.common.vec_env import DummyVecEnv\n",
    "\n",
    "class CustomPendulumEnv(PendulumEnv):\n",
    "    \n",
    "    def __init__(self, reward_fn, g=10.0):\n",
    "        super().__init__(g=g)\n",
    "        self._reward_fn = reward_fn\n",
    "    \n",
    "    def step(self, a):\n",
    "        obs, r, done, info = super().step(a)\n",
    "        state = super().unwrapped.state\n",
    "        r2 = self._reward_fn(phi(state))\n",
    "        return obs, r2, done, info\n",
    "\n",
    "get_env = lambda: CustomPendulumEnv(reward_fn=Linear(res.x))\n",
    "num_envs = 1\n",
    "env2 = DummyVecEnv([get_env for _ in range(num_envs)])\n",
    "model = DDPG('MlpPolicy', env2, verbose=1)\n",
    "model.learn(total_timesteps=1000)\n"
   ]
  },
  {
   "cell_type": "code",
   "execution_count": 10,
   "id": "cf3a35df-2845-410a-baff-d65bc9144100",
   "metadata": {},
   "outputs": [
    {
     "ename": "AssertionError",
     "evalue": "",
     "output_type": "error",
     "traceback": [
      "\u001b[1;31m---------------------------------------------------------------------------\u001b[0m",
      "\u001b[1;31mAssertionError\u001b[0m                            Traceback (most recent call last)",
      "\u001b[1;32m<ipython-input-10-a871fdc9ebee>\u001b[0m in \u001b[0;36m<module>\u001b[1;34m\u001b[0m\n\u001b[1;32m----> 1\u001b[1;33m \u001b[1;32massert\u001b[0m \u001b[1;32mFalse\u001b[0m\u001b[1;33m\u001b[0m\u001b[1;33m\u001b[0m\u001b[0m\n\u001b[0m",
      "\u001b[1;31mAssertionError\u001b[0m: "
     ]
    }
   ],
   "source": [
    "\n",
    "assert False\n"
   ]
  },
  {
   "cell_type": "code",
   "execution_count": 9,
   "id": "impaired-anderson",
   "metadata": {},
   "outputs": [
    {
     "name": "stdout",
     "output_type": "stream",
     "text": [
      "      fun: 219.5933724968353\n",
      " hess_inv: <25x25 LbfgsInvHessProduct with dtype=float64>\n",
      "      jac: array([ 1.12277275e-04,  1.88184917e-01, -2.37400734e+01,  8.44869648e-01,\n",
      "        1.06665640e-03,  1.30249298e-01,  4.74062911e-01,  3.03993954e-01,\n",
      "        1.46773864e+00,  1.91614270e-01,  5.08820740e-01,  1.17928882e-01,\n",
      "        1.76329431e-01, -2.53337666e-02,  1.09266498e+00,  7.13747949e-01,\n",
      "       -4.96295686e-02,  6.94383419e-04, -2.54768248e-01,  8.86402897e-01,\n",
      "        1.86860944e-01,  1.10193582e+00,  1.12207664e-01,  4.98092263e-01,\n",
      "        3.96675949e-01])\n",
      "  message: 'CONVERGENCE: REL_REDUCTION_OF_F_<=_FACTR*EPSMCH'\n",
      "     nfev: 2142\n",
      "      nit: 34\n",
      "     njev: 42\n",
      "   status: 0\n",
      "  success: True\n",
      "        x: array([ 0.02458339, -1.        ,  1.        , -1.        , -1.        ,\n",
      "       -1.        , -1.        , -1.        , -1.        , -1.        ,\n",
      "       -1.        , -1.        , -1.        ,  1.        , -1.        ,\n",
      "       -1.        ,  1.        ,  0.5826262 ,  1.        , -1.        ,\n",
      "       -1.        , -1.        , -1.        , -1.        , -1.        ])\n"
     ]
    },
    {
     "data": {
      "image/png": "[encoded data removed]",
      "text/plain": [
       "<Figure size 432x288 with 2 Axes>"
      ]
     },
     "metadata": {},
     "output_type": "display_data"
    }
   ],
   "source": [
    "\n",
    "x0 = np.zeros(len(phi))\n",
    "res = minimize(\n",
    "    sw_maxent_irl_modelfree,\n",
    "    x0,\n",
    "    args=(gamma, phi, phi_bar, max_path_length, pi_ref, pi_ref_demos, True, pi_ref_demo_phis_precomputed),\n",
    "    method='L-BFGS-B',\n",
    "    jac='3-point',\n",
    "    bounds=[(-1, 1) for _ in range(len(phi))],\n",
    "    options=dict(disp=True)\n",
    ")\n",
    "\n",
    "print(res)\n",
    "viz_soln(res.x)\n"
   ]
  },
  {
   "cell_type": "code",
   "execution_count": null,
   "id": "14009217-7d2f-42f6-81bc-2d3ab7c2bb08",
   "metadata": {},
   "outputs": [],
   "source": [
    "\n",
    "x0 = np.zeros(len(phi))\n",
    "\n",
    "res = minimize(\n",
    "    sw_maxent_irl_modelfree,\n",
    "    x0,\n",
    "    args=(gamma, phi, phi_bar, max_path_length, pi_ref, pi_ref_demos, False, pi_ref_demo_phis_precomputed),\n",
    "    method='L-BFGS-B',\n",
    "    jac=True,\n",
    "    bounds=[(-1, 1) for _ in range(len(phi))],\n",
    "    options=dict(disp=True)\n",
    ")\n",
    "\n",
    "print(res)\n",
    "viz_soln(res.x)\n"
   ]
  },
  {
   "cell_type": "code",
   "execution_count": null,
   "id": "comparative-encyclopedia",
   "metadata": {},
   "outputs": [],
   "source": [
    "\n",
    "import cma\n",
    "\n",
    "x0 = np.zeros(len(phi))\n",
    "x, es = cma.fmin2(\n",
    "    sw_maxent_irl_modelfree,\n",
    "    x0,\n",
    "    0.5,\n",
    "    args=(gamma, phi, phi_bar, max_path_length, pi_ref, pi_ref_demos, True, pi_ref_demo_phis_precomputed),\n",
    "    options=dict(bounds=[-1.0, 1.0])\n",
    ")\n",
    "\n",
    "print(x.reshape(basis_dim, -1))\n",
    "\n",
    "viz_soln(x)\n"
   ]
  }
 ],
 "metadata": {
  "kernelspec": {
   "display_name": "Python 3",
   "language": "python",
   "name": "python3"
  },
  "language_info": {
   "codemirror_mode": {
    "name": "ipython",
    "version": 3
   },
   "file_extension": ".py",
   "mimetype": "text/x-python",
   "name": "python",
   "nbconvert_exporter": "python",
   "pygments_lexer": "ipython3",
   "version": "3.8.10"
  }
 },
 "nbformat": 4,
 "nbformat_minor": 5
}
